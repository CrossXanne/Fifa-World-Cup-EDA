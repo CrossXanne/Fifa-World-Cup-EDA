{
  "cells": [
    {
      "cell_type": "markdown",
      "id": "b5325c22-ca63-49bc-b417-cf63a2313330",
      "metadata": {
        "id": "b5325c22-ca63-49bc-b417-cf63a2313330"
      },
      "source": [
        "# Introduction to Data Science: Football Worldcup Data Analysis"
      ]
    },
    {
      "cell_type": "raw",
      "id": "884ef8a0-ff54-4bb0-b835-0a960746433f",
      "metadata": {
        "id": "884ef8a0-ff54-4bb0-b835-0a960746433f"
      },
      "source": [
        "Ishika Maheshwari   - 20070122058  - CS\n",
        "Siddharth Khatri    - 20070124032  - IT\n",
        "Shikhar Srivastava  - 20070124032  - IT\n",
        "Saurabh Jain        - 20070124050  - IT\n",
        "Akash Singh         - 20070124055  - IT"
      ]
    },
    {
      "cell_type": "code",
      "execution_count": null,
      "id": "1c5a8523-30ce-40ed-b4f7-132a1c8ff646",
      "metadata": {
        "id": "1c5a8523-30ce-40ed-b4f7-132a1c8ff646"
      },
      "outputs": [],
      "source": [
        "# Importing all the modules required\n",
        "import numpy as np                  # numpy for linear algebra operations\n",
        "import pandas as pd                 # pandas for datafile processing\n",
        "import matplotlib.pyplot as plt     # matplotlib for data visualization\n",
        "import seaborn as sns               # also for data visualation (graphs etc.)\n",
        "%matplotlib inline\n",
        "import plotly as py                 # for data visualisation (it supports a huge variety of plotable charts)\n",
        "import cufflinks as cf              # it connects plotly with pandas so that we can create charts directly on data frames"
      ]
    },
    {
      "cell_type": "code",
      "execution_count": null,
      "id": "30410f46-3804-4231-902f-2045a47105cd",
      "metadata": {
        "id": "30410f46-3804-4231-902f-2045a47105cd",
        "colab": {
          "base_uri": "https://localhost:8080/",
          "height": 358
        },
        "outputId": "059b8e5b-1c97-46b1-8aa2-4950e9c85c2f"
      },
      "outputs": [
        {
          "output_type": "error",
          "ename": "FileNotFoundError",
          "evalue": "ignored",
          "traceback": [
            "\u001b[0;31m---------------------------------------------------------------------------\u001b[0m",
            "\u001b[0;31mFileNotFoundError\u001b[0m                         Traceback (most recent call last)",
            "\u001b[0;32m<ipython-input-2-4241009f31db>\u001b[0m in \u001b[0;36m<module>\u001b[0;34m\u001b[0m\n\u001b[1;32m      1\u001b[0m \u001b[0;31m# Importing the datasets\u001b[0m\u001b[0;34m\u001b[0m\u001b[0;34m\u001b[0m\u001b[0;34m\u001b[0m\u001b[0m\n\u001b[0;32m----> 2\u001b[0;31m \u001b[0mplayers\u001b[0m \u001b[0;34m=\u001b[0m \u001b[0mpd\u001b[0m\u001b[0;34m.\u001b[0m\u001b[0mread_csv\u001b[0m\u001b[0;34m(\u001b[0m\u001b[0;34m\"/content/sample_data/WorldCupPlayers.csv\"\u001b[0m\u001b[0;34m)\u001b[0m\u001b[0;34m\u001b[0m\u001b[0;34m\u001b[0m\u001b[0m\n\u001b[0m\u001b[1;32m      3\u001b[0m \u001b[0mmatches\u001b[0m \u001b[0;34m=\u001b[0m \u001b[0mpd\u001b[0m\u001b[0;34m.\u001b[0m\u001b[0mread_csv\u001b[0m\u001b[0;34m(\u001b[0m\u001b[0;34m\"/content/sample_data/WorldCupMatches.csv\"\u001b[0m\u001b[0;34m)\u001b[0m\u001b[0;34m\u001b[0m\u001b[0;34m\u001b[0m\u001b[0m\n\u001b[1;32m      4\u001b[0m \u001b[0mworld_cup\u001b[0m \u001b[0;34m=\u001b[0m \u001b[0mpd\u001b[0m\u001b[0;34m.\u001b[0m\u001b[0mread_csv\u001b[0m\u001b[0;34m(\u001b[0m\u001b[0;34m\"/content/sample_data/WorldCups.csv\"\u001b[0m\u001b[0;34m)\u001b[0m\u001b[0;34m\u001b[0m\u001b[0;34m\u001b[0m\u001b[0m\n",
            "\u001b[0;32m/usr/local/lib/python3.7/dist-packages/pandas/util/_decorators.py\u001b[0m in \u001b[0;36mwrapper\u001b[0;34m(*args, **kwargs)\u001b[0m\n\u001b[1;32m    309\u001b[0m                     \u001b[0mstacklevel\u001b[0m\u001b[0;34m=\u001b[0m\u001b[0mstacklevel\u001b[0m\u001b[0;34m,\u001b[0m\u001b[0;34m\u001b[0m\u001b[0;34m\u001b[0m\u001b[0m\n\u001b[1;32m    310\u001b[0m                 )\n\u001b[0;32m--> 311\u001b[0;31m             \u001b[0;32mreturn\u001b[0m \u001b[0mfunc\u001b[0m\u001b[0;34m(\u001b[0m\u001b[0;34m*\u001b[0m\u001b[0margs\u001b[0m\u001b[0;34m,\u001b[0m \u001b[0;34m**\u001b[0m\u001b[0mkwargs\u001b[0m\u001b[0;34m)\u001b[0m\u001b[0;34m\u001b[0m\u001b[0;34m\u001b[0m\u001b[0m\n\u001b[0m\u001b[1;32m    312\u001b[0m \u001b[0;34m\u001b[0m\u001b[0m\n\u001b[1;32m    313\u001b[0m         \u001b[0;32mreturn\u001b[0m \u001b[0mwrapper\u001b[0m\u001b[0;34m\u001b[0m\u001b[0;34m\u001b[0m\u001b[0m\n",
            "\u001b[0;32m/usr/local/lib/python3.7/dist-packages/pandas/io/parsers/readers.py\u001b[0m in \u001b[0;36mread_csv\u001b[0;34m(filepath_or_buffer, sep, delimiter, header, names, index_col, usecols, squeeze, prefix, mangle_dupe_cols, dtype, engine, converters, true_values, false_values, skipinitialspace, skiprows, skipfooter, nrows, na_values, keep_default_na, na_filter, verbose, skip_blank_lines, parse_dates, infer_datetime_format, keep_date_col, date_parser, dayfirst, cache_dates, iterator, chunksize, compression, thousands, decimal, lineterminator, quotechar, quoting, doublequote, escapechar, comment, encoding, encoding_errors, dialect, error_bad_lines, warn_bad_lines, on_bad_lines, delim_whitespace, low_memory, memory_map, float_precision, storage_options)\u001b[0m\n\u001b[1;32m    584\u001b[0m     \u001b[0mkwds\u001b[0m\u001b[0;34m.\u001b[0m\u001b[0mupdate\u001b[0m\u001b[0;34m(\u001b[0m\u001b[0mkwds_defaults\u001b[0m\u001b[0;34m)\u001b[0m\u001b[0;34m\u001b[0m\u001b[0;34m\u001b[0m\u001b[0m\n\u001b[1;32m    585\u001b[0m \u001b[0;34m\u001b[0m\u001b[0m\n\u001b[0;32m--> 586\u001b[0;31m     \u001b[0;32mreturn\u001b[0m \u001b[0m_read\u001b[0m\u001b[0;34m(\u001b[0m\u001b[0mfilepath_or_buffer\u001b[0m\u001b[0;34m,\u001b[0m \u001b[0mkwds\u001b[0m\u001b[0;34m)\u001b[0m\u001b[0;34m\u001b[0m\u001b[0;34m\u001b[0m\u001b[0m\n\u001b[0m\u001b[1;32m    587\u001b[0m \u001b[0;34m\u001b[0m\u001b[0m\n\u001b[1;32m    588\u001b[0m \u001b[0;34m\u001b[0m\u001b[0m\n",
            "\u001b[0;32m/usr/local/lib/python3.7/dist-packages/pandas/io/parsers/readers.py\u001b[0m in \u001b[0;36m_read\u001b[0;34m(filepath_or_buffer, kwds)\u001b[0m\n\u001b[1;32m    480\u001b[0m \u001b[0;34m\u001b[0m\u001b[0m\n\u001b[1;32m    481\u001b[0m     \u001b[0;31m# Create the parser.\u001b[0m\u001b[0;34m\u001b[0m\u001b[0;34m\u001b[0m\u001b[0;34m\u001b[0m\u001b[0m\n\u001b[0;32m--> 482\u001b[0;31m     \u001b[0mparser\u001b[0m \u001b[0;34m=\u001b[0m \u001b[0mTextFileReader\u001b[0m\u001b[0;34m(\u001b[0m\u001b[0mfilepath_or_buffer\u001b[0m\u001b[0;34m,\u001b[0m \u001b[0;34m**\u001b[0m\u001b[0mkwds\u001b[0m\u001b[0;34m)\u001b[0m\u001b[0;34m\u001b[0m\u001b[0;34m\u001b[0m\u001b[0m\n\u001b[0m\u001b[1;32m    483\u001b[0m \u001b[0;34m\u001b[0m\u001b[0m\n\u001b[1;32m    484\u001b[0m     \u001b[0;32mif\u001b[0m \u001b[0mchunksize\u001b[0m \u001b[0;32mor\u001b[0m \u001b[0miterator\u001b[0m\u001b[0;34m:\u001b[0m\u001b[0;34m\u001b[0m\u001b[0;34m\u001b[0m\u001b[0m\n",
            "\u001b[0;32m/usr/local/lib/python3.7/dist-packages/pandas/io/parsers/readers.py\u001b[0m in \u001b[0;36m__init__\u001b[0;34m(self, f, engine, **kwds)\u001b[0m\n\u001b[1;32m    809\u001b[0m             \u001b[0mself\u001b[0m\u001b[0;34m.\u001b[0m\u001b[0moptions\u001b[0m\u001b[0;34m[\u001b[0m\u001b[0;34m\"has_index_names\"\u001b[0m\u001b[0;34m]\u001b[0m \u001b[0;34m=\u001b[0m \u001b[0mkwds\u001b[0m\u001b[0;34m[\u001b[0m\u001b[0;34m\"has_index_names\"\u001b[0m\u001b[0;34m]\u001b[0m\u001b[0;34m\u001b[0m\u001b[0;34m\u001b[0m\u001b[0m\n\u001b[1;32m    810\u001b[0m \u001b[0;34m\u001b[0m\u001b[0m\n\u001b[0;32m--> 811\u001b[0;31m         \u001b[0mself\u001b[0m\u001b[0;34m.\u001b[0m\u001b[0m_engine\u001b[0m \u001b[0;34m=\u001b[0m \u001b[0mself\u001b[0m\u001b[0;34m.\u001b[0m\u001b[0m_make_engine\u001b[0m\u001b[0;34m(\u001b[0m\u001b[0mself\u001b[0m\u001b[0;34m.\u001b[0m\u001b[0mengine\u001b[0m\u001b[0;34m)\u001b[0m\u001b[0;34m\u001b[0m\u001b[0;34m\u001b[0m\u001b[0m\n\u001b[0m\u001b[1;32m    812\u001b[0m \u001b[0;34m\u001b[0m\u001b[0m\n\u001b[1;32m    813\u001b[0m     \u001b[0;32mdef\u001b[0m \u001b[0mclose\u001b[0m\u001b[0;34m(\u001b[0m\u001b[0mself\u001b[0m\u001b[0;34m)\u001b[0m\u001b[0;34m:\u001b[0m\u001b[0;34m\u001b[0m\u001b[0;34m\u001b[0m\u001b[0m\n",
            "\u001b[0;32m/usr/local/lib/python3.7/dist-packages/pandas/io/parsers/readers.py\u001b[0m in \u001b[0;36m_make_engine\u001b[0;34m(self, engine)\u001b[0m\n\u001b[1;32m   1038\u001b[0m             )\n\u001b[1;32m   1039\u001b[0m         \u001b[0;31m# error: Too many arguments for \"ParserBase\"\u001b[0m\u001b[0;34m\u001b[0m\u001b[0;34m\u001b[0m\u001b[0;34m\u001b[0m\u001b[0m\n\u001b[0;32m-> 1040\u001b[0;31m         \u001b[0;32mreturn\u001b[0m \u001b[0mmapping\u001b[0m\u001b[0;34m[\u001b[0m\u001b[0mengine\u001b[0m\u001b[0;34m]\u001b[0m\u001b[0;34m(\u001b[0m\u001b[0mself\u001b[0m\u001b[0;34m.\u001b[0m\u001b[0mf\u001b[0m\u001b[0;34m,\u001b[0m \u001b[0;34m**\u001b[0m\u001b[0mself\u001b[0m\u001b[0;34m.\u001b[0m\u001b[0moptions\u001b[0m\u001b[0;34m)\u001b[0m  \u001b[0;31m# type: ignore[call-arg]\u001b[0m\u001b[0;34m\u001b[0m\u001b[0;34m\u001b[0m\u001b[0m\n\u001b[0m\u001b[1;32m   1041\u001b[0m \u001b[0;34m\u001b[0m\u001b[0m\n\u001b[1;32m   1042\u001b[0m     \u001b[0;32mdef\u001b[0m \u001b[0m_failover_to_python\u001b[0m\u001b[0;34m(\u001b[0m\u001b[0mself\u001b[0m\u001b[0;34m)\u001b[0m\u001b[0;34m:\u001b[0m\u001b[0;34m\u001b[0m\u001b[0;34m\u001b[0m\u001b[0m\n",
            "\u001b[0;32m/usr/local/lib/python3.7/dist-packages/pandas/io/parsers/c_parser_wrapper.py\u001b[0m in \u001b[0;36m__init__\u001b[0;34m(self, src, **kwds)\u001b[0m\n\u001b[1;32m     49\u001b[0m \u001b[0;34m\u001b[0m\u001b[0m\n\u001b[1;32m     50\u001b[0m         \u001b[0;31m# open handles\u001b[0m\u001b[0;34m\u001b[0m\u001b[0;34m\u001b[0m\u001b[0;34m\u001b[0m\u001b[0m\n\u001b[0;32m---> 51\u001b[0;31m         \u001b[0mself\u001b[0m\u001b[0;34m.\u001b[0m\u001b[0m_open_handles\u001b[0m\u001b[0;34m(\u001b[0m\u001b[0msrc\u001b[0m\u001b[0;34m,\u001b[0m \u001b[0mkwds\u001b[0m\u001b[0;34m)\u001b[0m\u001b[0;34m\u001b[0m\u001b[0;34m\u001b[0m\u001b[0m\n\u001b[0m\u001b[1;32m     52\u001b[0m         \u001b[0;32massert\u001b[0m \u001b[0mself\u001b[0m\u001b[0;34m.\u001b[0m\u001b[0mhandles\u001b[0m \u001b[0;32mis\u001b[0m \u001b[0;32mnot\u001b[0m \u001b[0;32mNone\u001b[0m\u001b[0;34m\u001b[0m\u001b[0;34m\u001b[0m\u001b[0m\n\u001b[1;32m     53\u001b[0m \u001b[0;34m\u001b[0m\u001b[0m\n",
            "\u001b[0;32m/usr/local/lib/python3.7/dist-packages/pandas/io/parsers/base_parser.py\u001b[0m in \u001b[0;36m_open_handles\u001b[0;34m(self, src, kwds)\u001b[0m\n\u001b[1;32m    227\u001b[0m             \u001b[0mmemory_map\u001b[0m\u001b[0;34m=\u001b[0m\u001b[0mkwds\u001b[0m\u001b[0;34m.\u001b[0m\u001b[0mget\u001b[0m\u001b[0;34m(\u001b[0m\u001b[0;34m\"memory_map\"\u001b[0m\u001b[0;34m,\u001b[0m \u001b[0;32mFalse\u001b[0m\u001b[0;34m)\u001b[0m\u001b[0;34m,\u001b[0m\u001b[0;34m\u001b[0m\u001b[0;34m\u001b[0m\u001b[0m\n\u001b[1;32m    228\u001b[0m             \u001b[0mstorage_options\u001b[0m\u001b[0;34m=\u001b[0m\u001b[0mkwds\u001b[0m\u001b[0;34m.\u001b[0m\u001b[0mget\u001b[0m\u001b[0;34m(\u001b[0m\u001b[0;34m\"storage_options\"\u001b[0m\u001b[0;34m,\u001b[0m \u001b[0;32mNone\u001b[0m\u001b[0;34m)\u001b[0m\u001b[0;34m,\u001b[0m\u001b[0;34m\u001b[0m\u001b[0;34m\u001b[0m\u001b[0m\n\u001b[0;32m--> 229\u001b[0;31m             \u001b[0merrors\u001b[0m\u001b[0;34m=\u001b[0m\u001b[0mkwds\u001b[0m\u001b[0;34m.\u001b[0m\u001b[0mget\u001b[0m\u001b[0;34m(\u001b[0m\u001b[0;34m\"encoding_errors\"\u001b[0m\u001b[0;34m,\u001b[0m \u001b[0;34m\"strict\"\u001b[0m\u001b[0;34m)\u001b[0m\u001b[0;34m,\u001b[0m\u001b[0;34m\u001b[0m\u001b[0;34m\u001b[0m\u001b[0m\n\u001b[0m\u001b[1;32m    230\u001b[0m         )\n\u001b[1;32m    231\u001b[0m \u001b[0;34m\u001b[0m\u001b[0m\n",
            "\u001b[0;32m/usr/local/lib/python3.7/dist-packages/pandas/io/common.py\u001b[0m in \u001b[0;36mget_handle\u001b[0;34m(path_or_buf, mode, encoding, compression, memory_map, is_text, errors, storage_options)\u001b[0m\n\u001b[1;32m    705\u001b[0m                 \u001b[0mencoding\u001b[0m\u001b[0;34m=\u001b[0m\u001b[0mioargs\u001b[0m\u001b[0;34m.\u001b[0m\u001b[0mencoding\u001b[0m\u001b[0;34m,\u001b[0m\u001b[0;34m\u001b[0m\u001b[0;34m\u001b[0m\u001b[0m\n\u001b[1;32m    706\u001b[0m                 \u001b[0merrors\u001b[0m\u001b[0;34m=\u001b[0m\u001b[0merrors\u001b[0m\u001b[0;34m,\u001b[0m\u001b[0;34m\u001b[0m\u001b[0;34m\u001b[0m\u001b[0m\n\u001b[0;32m--> 707\u001b[0;31m                 \u001b[0mnewline\u001b[0m\u001b[0;34m=\u001b[0m\u001b[0;34m\"\"\u001b[0m\u001b[0;34m,\u001b[0m\u001b[0;34m\u001b[0m\u001b[0;34m\u001b[0m\u001b[0m\n\u001b[0m\u001b[1;32m    708\u001b[0m             )\n\u001b[1;32m    709\u001b[0m         \u001b[0;32melse\u001b[0m\u001b[0;34m:\u001b[0m\u001b[0;34m\u001b[0m\u001b[0;34m\u001b[0m\u001b[0m\n",
            "\u001b[0;31mFileNotFoundError\u001b[0m: [Errno 2] No such file or directory: '/content/sample_data/WorldCupPlayers.csv'"
          ]
        }
      ],
      "source": [
        "# Importing the datasets\n",
        "players = pd.read_csv(\"/content/sample_data/WorldCupPlayers.csv\")\n",
        "matches = pd.read_csv(\"/content/sample_data/WorldCupMatches.csv\")\n",
        "world_cup = pd.read_csv(\"/content/sample_data/WorldCups.csv\")"
      ]
    },
    {
      "cell_type": "code",
      "execution_count": null,
      "id": "36774d10-ff0b-4391-8396-9338cbd92710",
      "metadata": {
        "id": "36774d10-ff0b-4391-8396-9338cbd92710"
      },
      "outputs": [],
      "source": [
        "#First 5 rows of the players dataset\n",
        "players.head()\n",
        "\n",
        "# If we want, we can specify a number to get the first 'n' rows as well.\n",
        "# Example, players.head(20)"
      ]
    },
    {
      "cell_type": "code",
      "execution_count": null,
      "id": "8e86fd3e-740e-4ceb-b47e-d087b692c5cf",
      "metadata": {
        "id": "8e86fd3e-740e-4ceb-b47e-d087b692c5cf"
      },
      "outputs": [],
      "source": [
        "# First 5 rows of matches dataset\n",
        "matches.head()"
      ]
    },
    {
      "cell_type": "code",
      "execution_count": null,
      "id": "f8371d1e-dec9-4655-8bda-827dba255e8e",
      "metadata": {
        "id": "f8371d1e-dec9-4655-8bda-827dba255e8e"
      },
      "outputs": [],
      "source": [
        "# The last 5 entries in the matches dataset\n",
        "\n",
        "matches.tail()"
      ]
    },
    {
      "cell_type": "code",
      "execution_count": null,
      "id": "47ad89a2-e005-4855-bd38-6b8fb68501bb",
      "metadata": {
        "id": "47ad89a2-e005-4855-bd38-6b8fb68501bb"
      },
      "outputs": [],
      "source": [
        "# First 5 rows of worldcup dataset\n",
        "\n",
        "world_cup.head()"
      ]
    },
    {
      "cell_type": "markdown",
      "id": "6a4db112-c6bd-48a1-adc9-a42c25fc1ee1",
      "metadata": {
        "id": "6a4db112-c6bd-48a1-adc9-a42c25fc1ee1"
      },
      "source": [
        "## Data Cleaning"
      ]
    },
    {
      "cell_type": "markdown",
      "id": "1202d77e-1547-4ed5-854c-3dba3efeae76",
      "metadata": {
        "id": "1202d77e-1547-4ed5-854c-3dba3efeae76"
      },
      "source": [
        "##### Our datasets contain various entries in which there is no data. So, we will remove (clean) those rows which contain NULL values."
      ]
    },
    {
      "cell_type": "code",
      "execution_count": null,
      "id": "753b4a44-9cda-46c9-bac9-9ba62194ac1e",
      "metadata": {
        "id": "753b4a44-9cda-46c9-bac9-9ba62194ac1e"
      },
      "outputs": [],
      "source": [
        "matches.dropna(subset=['Year'], inplace=True)\n",
        "\n",
        "# It removes all entries where the 'Year' column had NULL values"
      ]
    },
    {
      "cell_type": "code",
      "execution_count": null,
      "id": "5f04f1ac-e374-44aa-999d-6bd4a6b4090a",
      "metadata": {
        "id": "5f04f1ac-e374-44aa-999d-6bd4a6b4090a"
      },
      "outputs": [],
      "source": [
        "matches.tail()\n",
        "\n",
        "# You can see the dataset after data cleaning"
      ]
    },
    {
      "cell_type": "code",
      "execution_count": null,
      "id": "14383e54-b85c-4f75-9f0c-e43b1a442dde",
      "metadata": {
        "id": "14383e54-b85c-4f75-9f0c-e43b1a442dde"
      },
      "outputs": [],
      "source": [
        "# Getting the value count in a dataset (meaning how many time a specific value has been repeated)\n",
        "matches['Home Team Name'].value_counts()"
      ]
    },
    {
      "cell_type": "code",
      "execution_count": null,
      "id": "247493fa-1a2d-4e5a-b826-b17ef3ccbbf1",
      "metadata": {
        "id": "247493fa-1a2d-4e5a-b826-b17ef3ccbbf1"
      },
      "outputs": [],
      "source": [
        "matches['Home Team Goals'].value_counts()"
      ]
    },
    {
      "cell_type": "code",
      "execution_count": null,
      "id": "980bcd94-4cb9-48bb-ad6a-f11ae10b64a8",
      "metadata": {
        "id": "980bcd94-4cb9-48bb-ad6a-f11ae10b64a8"
      },
      "outputs": [],
      "source": [
        "# Some Home Teams include unrequired characters.\n",
        "\n",
        "names = matches[matches['Home Team Name'].str.contains('rn\">')]['Home Team Name'].value_counts()\n",
        "\n",
        "names"
      ]
    },
    {
      "cell_type": "code",
      "execution_count": null,
      "id": "6a32e9a0-6f3a-45c4-b258-2588e5f41534",
      "metadata": {
        "id": "6a32e9a0-6f3a-45c4-b258-2588e5f41534"
      },
      "outputs": [],
      "source": [
        "# Creating a new list with wrong names of the Home Teams (they include the 'rn\">' in the beginning)\n",
        "\n",
        "wrong = list(names.index)\n",
        "\n",
        "wrong"
      ]
    },
    {
      "cell_type": "code",
      "execution_count": null,
      "id": "ae6fa736-963a-42ba-9b50-0ed1f74215e8",
      "metadata": {
        "id": "ae6fa736-963a-42ba-9b50-0ed1f74215e8"
      },
      "outputs": [],
      "source": [
        "# Removing the 'rn\">' from the names. We do not require it.\n",
        "\n",
        "correct = [name.split('>')[1] for name in wrong]\n",
        "\n",
        "correct"
      ]
    },
    {
      "cell_type": "code",
      "execution_count": null,
      "id": "793a8212-e1d6-493f-9960-33998cc16896",
      "metadata": {
        "id": "793a8212-e1d6-493f-9960-33998cc16896"
      },
      "outputs": [],
      "source": [
        "old_name = ['Germany FR', 'Maracan� - Est�dio Jornalista M�rio Filho', 'Estadio do Maracana'] # These teams also have some character malfunctioning in them.\n",
        "new_name = ['Germany', 'Maracan Stadium', 'Maracan Stadium'] # These are the corrected names"
      ]
    },
    {
      "cell_type": "code",
      "execution_count": null,
      "id": "99aab2a8-ba2d-43b6-9e89-74b42ba99df7",
      "metadata": {
        "id": "99aab2a8-ba2d-43b6-9e89-74b42ba99df7"
      },
      "outputs": [],
      "source": [
        "wrong = wrong + old_name #Adding oldname to the wrong names list\n",
        "correct = correct + new_name #Adding newname to the correct names list"
      ]
    },
    {
      "cell_type": "code",
      "execution_count": null,
      "id": "686500f5-3ab8-456d-9d64-b88b73eb4174",
      "metadata": {
        "id": "686500f5-3ab8-456d-9d64-b88b73eb4174"
      },
      "outputs": [],
      "source": [
        "wrong # Displaying the updated wrong team names list"
      ]
    },
    {
      "cell_type": "code",
      "execution_count": null,
      "id": "2cbb31bf-5a66-4b5c-bd34-c69070777637",
      "metadata": {
        "id": "2cbb31bf-5a66-4b5c-bd34-c69070777637"
      },
      "outputs": [],
      "source": [
        "correct # Displaying the updated correct team names list"
      ]
    },
    {
      "cell_type": "code",
      "execution_count": null,
      "id": "643c23f6-1d65-42df-bc51-d539df3ab591",
      "metadata": {
        "id": "643c23f6-1d65-42df-bc51-d539df3ab591"
      },
      "outputs": [],
      "source": [
        "# Replacing wrong values with corrected ones in players, matches and worldcup datasets\n",
        "\n",
        "for index, wr in enumerate(wrong):\n",
        "    world_cup = world_cup.replace(wrong[index], correct[index])\n",
        "\n",
        "for index, wr in enumerate(wrong):\n",
        "    matches = matches.replace(wrong[index], correct[index])\n",
        "\n",
        "for index, wr in enumerate(wrong):\n",
        "    players = players.replace(wrong[index], correct[index])"
      ]
    },
    {
      "cell_type": "code",
      "execution_count": null,
      "id": "a8e3db7d-2fed-4764-9435-f3162e4b1996",
      "metadata": {
        "id": "a8e3db7d-2fed-4764-9435-f3162e4b1996"
      },
      "outputs": [],
      "source": [
        "# Checking if there are still any wrong entries listed in the dataset\n",
        "\n",
        "names = matches[matches['Home Team Name'].str.contains('rn\">')]['Home Team Name'].value_counts()\n",
        "names"
      ]
    },
    {
      "cell_type": "markdown",
      "id": "2c986427-7570-4139-909e-76ca31030965",
      "metadata": {
        "id": "2c986427-7570-4139-909e-76ca31030965"
      },
      "source": [
        "## Most Number of World Cup Winning Title"
      ]
    },
    {
      "cell_type": "code",
      "execution_count": null,
      "id": "804db02a-2b68-45e7-af87-00462b4b9a84",
      "metadata": {
        "id": "804db02a-2b68-45e7-af87-00462b4b9a84"
      },
      "outputs": [],
      "source": [
        "# Counting the number of times each country has appeared as the 'Winner' in the worldcup dataset\n",
        "\n",
        "winner = world_cup['Winner'].value_counts()\n",
        "\n",
        "winner"
      ]
    },
    {
      "cell_type": "code",
      "execution_count": null,
      "id": "efeac620-a228-4721-9e78-f9e7be66be91",
      "metadata": {
        "id": "efeac620-a228-4721-9e78-f9e7be66be91"
      },
      "outputs": [],
      "source": [
        "# Counting the number of times each country has appeared as the 'Runner Up' in the worldcup dataset\n",
        "\n",
        "runnerup = world_cup['Runners-Up'].value_counts()\n",
        "\n",
        "runnerup"
      ]
    },
    {
      "cell_type": "code",
      "execution_count": null,
      "id": "5e5d3a70-61ce-444f-b36c-3f044568b08f",
      "metadata": {
        "id": "5e5d3a70-61ce-444f-b36c-3f044568b08f"
      },
      "outputs": [],
      "source": [
        "# Counting the number of times each country has appeared as the 'Third' in the worldcup dataset\n",
        "\n",
        "third = world_cup['Third'].value_counts()\n",
        "\n",
        "third"
      ]
    },
    {
      "cell_type": "code",
      "execution_count": null,
      "id": "a6dafbf6-b21b-40c1-9f3a-1571b8644282",
      "metadata": {
        "id": "a6dafbf6-b21b-40c1-9f3a-1571b8644282"
      },
      "outputs": [],
      "source": [
        "# Creating a new table listing the all the above values\n",
        "\n",
        "teams = pd.concat([winner, runnerup, third], axis=1)     # Concating the three values with the heading\n",
        "teams.fillna(0, inplace=True)   # Replaces the NULL values with a 0\n",
        "teams = teams.astype(int)       # Converts all dtypes to int\n",
        "\n",
        "teams"
      ]
    },
    {
      "cell_type": "code",
      "execution_count": null,
      "id": "426c7bd5-5a37-4de7-800d-631b909b5a7f",
      "metadata": {
        "id": "426c7bd5-5a37-4de7-800d-631b909b5a7f"
      },
      "outputs": [],
      "source": [
        "# Importing iplot from plotly and connecting it to offline mode\n",
        "\n",
        "from plotly.offline import iplot\n",
        "py.offline.init_notebook_mode(connected=True)\n",
        "cf.go_offline()"
      ]
    },
    {
      "cell_type": "code",
      "execution_count": null,
      "id": "4507a69c-b21a-4b26-8ea7-0dc39ef99c62",
      "metadata": {
        "tags": [],
        "id": "4507a69c-b21a-4b26-8ea7-0dc39ef99c62"
      },
      "outputs": [],
      "source": [
        "teams.iplot(kind = 'bar', xTitle='Teams', yTitle='World Cup Winning Count', title='FIFA World Cup Winning Count')"
      ]
    },
    {
      "cell_type": "markdown",
      "id": "466daf86-b9cd-44e8-98bd-5e1c80c476d5",
      "metadata": {
        "id": "466daf86-b9cd-44e8-98bd-5e1c80c476d5"
      },
      "source": [
        "## Number of Goal Per Countary"
      ]
    },
    {
      "cell_type": "code",
      "execution_count": null,
      "id": "9420c62d-d98d-4466-9eb1-7ed160081794",
      "metadata": {
        "id": "9420c62d-d98d-4466-9eb1-7ed160081794"
      },
      "outputs": [],
      "source": [
        "matches.head(2)"
      ]
    },
    {
      "cell_type": "code",
      "execution_count": null,
      "id": "458cf36b-9bfd-472b-84ee-81e1f84d9a69",
      "metadata": {
        "id": "458cf36b-9bfd-472b-84ee-81e1f84d9a69"
      },
      "outputs": [],
      "source": [
        "# Cleaning the NULL fields from Teams and Goals and storing output to new lists\n",
        "\n",
        "home = matches[['Home Team Name', 'Home Team Goals']].dropna()\n",
        "away = matches[['Away Team Name', 'Away Team Goals']].dropna()"
      ]
    },
    {
      "cell_type": "code",
      "execution_count": null,
      "id": "5e6ae02b-6426-46f4-9802-a0970ea47bf8",
      "metadata": {
        "id": "5e6ae02b-6426-46f4-9802-a0970ea47bf8"
      },
      "outputs": [],
      "source": [
        "# Setting the columns as 'Countries' and 'Goals' for home and away teams\n",
        "\n",
        "home.columns = ['Countries', 'Goals']\n",
        "away.columns = home.columns"
      ]
    },
    {
      "cell_type": "code",
      "execution_count": null,
      "id": "792f89c5-ac13-4c84-b5bb-cc31ecce1036",
      "metadata": {
        "id": "792f89c5-ac13-4c84-b5bb-cc31ecce1036"
      },
      "outputs": [],
      "source": [
        "# Creating a new list combining both values from home and away\n",
        "\n",
        "goals = home.append(away, ignore_index = True)"
      ]
    },
    {
      "cell_type": "code",
      "execution_count": null,
      "id": "ef2e7ab2-fd9a-41fa-8429-26e8577ea6a3",
      "metadata": {
        "id": "ef2e7ab2-fd9a-41fa-8429-26e8577ea6a3"
      },
      "outputs": [],
      "source": [
        "# Grouping the countries by total goals they have scored (as home teams + as away teams)\n",
        "\n",
        "goals = goals.groupby('Countries').sum()\n",
        "goals"
      ]
    },
    {
      "cell_type": "code",
      "execution_count": null,
      "id": "f9057fdf-4d16-45e6-a45c-e1ef89e74328",
      "metadata": {
        "id": "f9057fdf-4d16-45e6-a45c-e1ef89e74328"
      },
      "outputs": [],
      "source": [
        "# Sorting the list in descending order (most to less goals)\n",
        "\n",
        "goals = goals.sort_values(by = 'Goals', ascending=False)\n",
        "\n",
        "goals"
      ]
    },
    {
      "cell_type": "code",
      "execution_count": null,
      "id": "07c8930d-515a-4378-a756-5b814a4f1e2d",
      "metadata": {
        "id": "07c8930d-515a-4378-a756-5b814a4f1e2d"
      },
      "outputs": [],
      "source": [
        "# Plotting graph for the most number of goals by countries\n",
        "# Note that we are only displaying the top 30 countries from the list\n",
        "\n",
        "goals[:30].iplot(kind='bar', xTitle = 'Country', yTitle = 'Number of Goals', title = 'Countries Hits Number of Goals')"
      ]
    },
    {
      "cell_type": "markdown",
      "id": "f669a3c4-a34b-4d8f-89a0-b8b3f0e3e55d",
      "metadata": {
        "id": "f669a3c4-a34b-4d8f-89a0-b8b3f0e3e55d"
      },
      "source": [
        "## Attendance, Number of Teams, Goals, and Matches per Cup"
      ]
    },
    {
      "cell_type": "code",
      "execution_count": null,
      "id": "026c47e2-486f-450c-9bc5-cfaec750990f",
      "metadata": {
        "id": "026c47e2-486f-450c-9bc5-cfaec750990f"
      },
      "outputs": [],
      "source": [
        "# Removing the decimals from the attendance column\n",
        "\n",
        "world_cup['Attendance'] = world_cup['Attendance'].str.replace(\".\", \"\")"
      ]
    },
    {
      "cell_type": "code",
      "execution_count": null,
      "id": "9eba0a9f-9a4c-46a6-90e1-c1532f38e1b3",
      "metadata": {
        "id": "9eba0a9f-9a4c-46a6-90e1-c1532f38e1b3"
      },
      "outputs": [],
      "source": [
        "world_cup.head(10)"
      ]
    },
    {
      "cell_type": "code",
      "execution_count": null,
      "id": "cf67af34-fbe8-4a1b-8edc-62448fa4d617",
      "metadata": {
        "id": "cf67af34-fbe8-4a1b-8edc-62448fa4d617"
      },
      "outputs": [],
      "source": [
        "fig, ax = plt.subplots(figsize = (10, 7))\n",
        "sns.despine(right = True)\n",
        "g = sns.barplot(x = 'Year', y = 'QualifiedTeams', data = world_cup)\n",
        "g.set_xticklabels(g.get_xticklabels(), rotation = 80)\n",
        "g.set_title('Qualified Teams Per Year')\n",
        "\n",
        "#======================\n",
        "\n",
        "fig, ax = plt.subplots(figsize = (10,5))\n",
        "sns.despine(right = True)\n",
        "g = sns.barplot(x = 'Year', y = 'GoalsScored', data = world_cup)\n",
        "g.set_xticklabels(g.get_xticklabels(), rotation = 80)\n",
        "g.set_title('Goals Scored per Year')\n",
        "\n",
        "#======================\n",
        "\n",
        "fig, ax = plt.subplots(figsize = (10,5))\n",
        "sns.despine(right = True)\n",
        "g = sns.barplot(x = 'Year', y = 'MatchesPlayed', data = world_cup)\n",
        "g.set_xticklabels(g.get_xticklabels(), rotation = 80)\n",
        "g.set_title('Matches Plyed Scored by Teams Per Year')"
      ]
    },
    {
      "cell_type": "markdown",
      "id": "50bddb31-4fd1-46cc-b87b-ed35434278b0",
      "metadata": {
        "id": "50bddb31-4fd1-46cc-b87b-ed35434278b0"
      },
      "source": [
        "# Goals Per Team Per World Cup"
      ]
    },
    {
      "cell_type": "code",
      "execution_count": null,
      "id": "1e1d6cfd-86c8-4c1b-ae0c-2b503eb7dd29",
      "metadata": {
        "id": "1e1d6cfd-86c8-4c1b-ae0c-2b503eb7dd29"
      },
      "outputs": [],
      "source": [
        "# Creating a new list which stores the grouped Year and Home teams\n",
        "home = matches.groupby(['Year', 'Home Team Name'])['Home Team Goals'].sum()\n",
        "\n",
        "home"
      ]
    },
    {
      "cell_type": "code",
      "execution_count": null,
      "id": "822efbb4-4340-4db9-ae50-533fc78ad6c2",
      "metadata": {
        "id": "822efbb4-4340-4db9-ae50-533fc78ad6c2"
      },
      "outputs": [],
      "source": [
        "# Similarly, creating a list for away teams (which also stores goals scored by grouping them by team and then adding the total)\n",
        "away = matches.groupby(['Year', 'Away Team Name'])['Away Team Goals'].sum()\n",
        "away"
      ]
    },
    {
      "cell_type": "code",
      "execution_count": null,
      "id": "a318d4c6-d874-4407-8490-34acf854e515",
      "metadata": {
        "id": "a318d4c6-d874-4407-8490-34acf854e515"
      },
      "outputs": [],
      "source": [
        "# New list 'goals' which concats 'home' and 'away' teams\n",
        "goals = pd.concat([home, away], axis=1)\n",
        "# Replace all NULL values with 0\n",
        "goals.fillna(0, inplace=True)\n",
        "# Adding the home and away team goals\n",
        "goals['Goals'] = goals['Home Team Goals'] + goals['Away Team Goals']\n",
        "# Removing the Home Team Goals and Away Team Goals titles from list 'goals'\n",
        "goals = goals.drop(labels = ['Home Team Goals', 'Away Team Goals'], axis = 1)\n",
        "\n",
        "\n",
        "goals"
      ]
    },
    {
      "cell_type": "code",
      "execution_count": null,
      "id": "6da7fc31-39d2-4941-8b3e-8f4f4face1f9",
      "metadata": {
        "id": "6da7fc31-39d2-4941-8b3e-8f4f4face1f9"
      },
      "outputs": [],
      "source": [
        "# Reset the list index to default(default starts from 0)\n",
        "goals = goals.reset_index()"
      ]
    },
    {
      "cell_type": "code",
      "execution_count": null,
      "id": "f40e2f5d-8c80-4171-a81a-d6598c28bdaa",
      "metadata": {
        "id": "f40e2f5d-8c80-4171-a81a-d6598c28bdaa"
      },
      "outputs": [],
      "source": [
        "# Adding column headers\n",
        "goals.columns = ['Year', 'Country', 'Goals']\n",
        "\n",
        "# Sort list to ascending (by year) and in descending (by goal)\n",
        "goals = goals.sort_values(by = ['Year', 'Goals'], ascending = [True, False])\n",
        "\n",
        "goals\n",
        "\n"
      ]
    },
    {
      "cell_type": "code",
      "execution_count": null,
      "id": "08f65785-e48f-4450-b95b-38854a8d125e",
      "metadata": {
        "id": "08f65785-e48f-4450-b95b-38854a8d125e"
      },
      "outputs": [],
      "source": [
        "# Top 5 goals by each year\n",
        "top5 = goals.groupby('Year').head()\n",
        "\n",
        "top5.head(10)"
      ]
    },
    {
      "cell_type": "code",
      "execution_count": null,
      "id": "00778eec-44e3-48ba-b33c-994bf1c84a60",
      "metadata": {
        "id": "00778eec-44e3-48ba-b33c-994bf1c84a60"
      },
      "outputs": [],
      "source": [
        "import plotly.graph_objects as go"
      ]
    },
    {
      "cell_type": "code",
      "execution_count": null,
      "id": "36139dd1-c50c-435a-bf52-0ea186b37673",
      "metadata": {
        "id": "36139dd1-c50c-435a-bf52-0ea186b37673"
      },
      "outputs": [],
      "source": [
        "x, y = goals['Year'].values, goals['Goals'].values"
      ]
    },
    {
      "cell_type": "code",
      "execution_count": null,
      "id": "ee04112f-d928-4241-a803-f2bd227946c3",
      "metadata": {
        "id": "ee04112f-d928-4241-a803-f2bd227946c3"
      },
      "outputs": [],
      "source": [
        "data = []\n",
        "\n",
        "# Looping over the top5 list (with removed duplicates)\n",
        "for team in top5['Country'].drop_duplicates().values:\n",
        "    year = top5[top5['Country'] == team]['Year']\n",
        "    goal = top5[top5['Country'] == team]['Goals']\n",
        "\n",
        "#     Appending the Bargraphs to the end of data list\n",
        "    data.append(go.Bar(x = year, y = goal, name = team))\n",
        "# Cerating a layout with stack as bargraph\n",
        "layout = go.Layout(barmode = 'stack', title = 'Top 5 Teams with Most Goals Scored', showlegend = True)\n",
        "# Creating the bargraph figure (diagram) with 'data' as data list and 'layout' as layout list\n",
        "fig = go.Figure(data = data, layout = layout)\n",
        "fig.show()"
      ]
    },
    {
      "cell_type": "markdown",
      "id": "dbdee291-f287-4d9a-9a98-441923528e0f",
      "metadata": {
        "id": "dbdee291-f287-4d9a-9a98-441923528e0f"
      },
      "source": [
        "# Matches With Highest Number Of Attendance"
      ]
    },
    {
      "cell_type": "code",
      "execution_count": null,
      "id": "1f31053c-c82e-4059-9998-91c521212140",
      "metadata": {
        "id": "1f31053c-c82e-4059-9998-91c521212140"
      },
      "outputs": [],
      "source": [
        "# Converting the date to datetime dtype\n",
        "matches['Datetime'] = pd.to_datetime(matches['Datetime'])"
      ]
    },
    {
      "cell_type": "code",
      "execution_count": null,
      "id": "f9cd960c-d550-4aab-b507-803ca3f8e49d",
      "metadata": {
        "id": "f9cd960c-d550-4aab-b507-803ca3f8e49d"
      },
      "outputs": [],
      "source": [
        "# Stringifying the date format\n",
        "# %d - date\n",
        "# %b - abbrevated month name\n",
        "# %y - year (YY format)\n",
        "\n",
        "matches['Datetime'] = matches['Datetime'].apply(lambda x: x.strftime('%d %b, %y'))\n",
        "matches['Datetime']"
      ]
    },
    {
      "cell_type": "code",
      "execution_count": null,
      "id": "2b592349-484d-4077-babd-48cd4431ba56",
      "metadata": {
        "id": "2b592349-484d-4077-babd-48cd4431ba56"
      },
      "outputs": [],
      "source": [
        "# Sorting the top 10 matches\n",
        "top10 = matches.sort_values(by = 'Attendance', ascending = False)[:10]\n",
        "top10['vs'] = top10['Home Team Name'] + \" vs \" + top10['Away Team Name']\n",
        "\n",
        "# Creating the plot figure with size (12, 10)\n",
        "plt.figure(figsize = (12,10))\n",
        "\n",
        "ax = sns.barplot(y = top10['vs'], x = top10['Attendance'])\n",
        "sns.despine(right = True)\n",
        "\n",
        "plt.ylabel('Match Teams')\n",
        "plt.xlabel('Attendence')\n",
        "plt.title('Matches with the Highest Number of Attendence')\n",
        "\n",
        "for i, s in enumerate(\"Stadium: \" + top10['Stadium'] +\", Date: \" + top10['Datetime']):\n",
        "    ax.text(2000, i, s, fontsize = 12, color = 'white')\n",
        "plt.show()\n"
      ]
    },
    {
      "cell_type": "markdown",
      "id": "4bb8350e-3151-4df1-8edf-357094217282",
      "metadata": {
        "id": "4bb8350e-3151-4df1-8edf-357094217282"
      },
      "source": [
        "# Stadium with Highest Average Attendance"
      ]
    },
    {
      "cell_type": "code",
      "execution_count": null,
      "id": "550f82fd-592c-407c-851f-3dffb1cc36f1",
      "metadata": {
        "id": "550f82fd-592c-407c-851f-3dffb1cc36f1"
      },
      "outputs": [],
      "source": [
        "matches['Year'] = matches['Year'].astype(int)\n",
        "\n",
        "std = matches.groupby(['Stadium', 'City'])['Attendance'].mean().reset_index().sort_values(by = 'Attendance', ascending =False)\n",
        "\n",
        "top10 = std[:10]\n",
        "\n",
        "plt.figure(figsize = (12,9))\n",
        "ax = sns.barplot(y = top10['Stadium'], x = top10['Attendance'])\n",
        "sns.despine(right = True)\n",
        "\n",
        "plt.ylabel('Stadium Names')\n",
        "plt.xlabel('Attendance')\n",
        "plt.title('Stadium with the heighest number of attendance')\n",
        "for i, s in enumerate(\"City: \" + top10['City']):\n",
        "        ax.text(2000, i, s, fontsize = 12, color = 'white')\n",
        "\n",
        "plt.show()"
      ]
    },
    {
      "cell_type": "code",
      "execution_count": null,
      "id": "f70b2f31-2fd9-4a0c-98c9-bd3e3eec8f4b",
      "metadata": {
        "id": "f70b2f31-2fd9-4a0c-98c9-bd3e3eec8f4b"
      },
      "outputs": [],
      "source": [
        "# Most matches were played in which cities\n",
        "matches['City'].value_counts()[:20].iplot(kind = 'bar')"
      ]
    },
    {
      "cell_type": "markdown",
      "id": "9033b325-965f-4c12-bebf-c5aa65bd1b39",
      "metadata": {
        "id": "9033b325-965f-4c12-bebf-c5aa65bd1b39"
      },
      "source": [
        "# Which countries had won the cup ?"
      ]
    },
    {
      "cell_type": "code",
      "execution_count": null,
      "id": "db045d47-ec6e-4f13-80b5-1002a02714b0",
      "metadata": {
        "id": "db045d47-ec6e-4f13-80b5-1002a02714b0"
      },
      "outputs": [],
      "source": [
        "# Creating 3 lists categorising Winner, Runners-Up and Third positions\n",
        "gold = world_cup[\"Winner\"]\n",
        "silver = world_cup[\"Runners-Up\"]\n",
        "bronze = world_cup[\"Third\"]\n",
        "\n",
        "# Counting values from the lists (we have used from_dict() method as we are creating a list from dict type)\n",
        "gold_count = pd.DataFrame.from_dict(gold.value_counts())\n",
        "silver_count = pd.DataFrame.from_dict(silver.value_counts())\n",
        "bronze_count = pd.DataFrame.from_dict(bronze.value_counts())\n",
        "\n",
        "# Performing Outer join\n",
        "podium_count = gold_count.join(silver_count, how='outer').join(bronze_count, how='outer')\n",
        "# Filling NULL values with 0\n",
        "podium_count = podium_count.fillna(0)\n",
        "# Adding column titles\n",
        "podium_count.columns = ['WINNER', 'SECOND', 'THIRD']\n",
        "# Converting the dtype of list to int64\n",
        "podium_count = podium_count.astype('int64')\n",
        "# Sorting values in descending order\n",
        "podium_count = podium_count.sort_values(by=['WINNER', 'SECOND', 'THIRD'], ascending=False)\n",
        "\n",
        "# Plotting the bargraph\n",
        "podium_count.plot(y=['WINNER', 'SECOND', 'THIRD'], kind=\"bar\",\n",
        "                  color =['gold','silver','brown'], figsize=(15, 6), fontsize=14,\n",
        "                 width=0.8, align='center')\n",
        "plt.xlabel('Countries')\n",
        "plt.ylabel('Number of podium')\n",
        "plt.title('Country-wise Podium Count')"
      ]
    },
    {
      "cell_type": "code",
      "execution_count": null,
      "id": "2fc77cd9-6b88-4e6a-b202-60f40908b6d3",
      "metadata": {
        "id": "2fc77cd9-6b88-4e6a-b202-60f40908b6d3"
      },
      "outputs": [],
      "source": [
        "# Removing NULL values\n",
        "home = matches[['Home Team Name', 'Home Team Goals']].dropna()\n",
        "# Removing NULL values\n",
        "away = matches[['Away Team Name', 'Away Team Goals']].dropna()\n",
        "\n",
        "# Creating a new DataFrame with countires and goals\n",
        "goal_per_country = pd.DataFrame(columns=['countries', 'goals'])\n",
        "# Appending away to home and then assigning the resultant to goal_per_country dataframe\n",
        "goal_per_country = goal_per_country.append(home.rename(index=str, columns={'Home Team Name': 'countries', 'Home Team Goals': 'goals'}))\n",
        "goal_per_country = goal_per_country.append(away.rename(index=str, columns={'Away Team Name': 'countries', 'Away Team Goals': 'goals'}))\n",
        "\n",
        "# Converting the dtype of goals\n",
        "goal_per_country['goals'] = goal_per_country['goals'].astype('int64')\n",
        "\n",
        "# Grouping the countries by country name, adding the goal values and then sorting them in descending order\n",
        "goal_per_country = goal_per_country.groupby(['countries'])['goals'].sum().sort_values(ascending=False)\n",
        "\n",
        "# Plotting the graph\n",
        "goal_per_country[:10].plot(x=goal_per_country.index, y=goal_per_country.values, kind=\"bar\", figsize=(12, 6), fontsize=14)\n",
        "plt.xlabel('Countries')\n",
        "plt.ylabel('Number of goals')\n",
        "plt.title('Top 10 of Number of goals by country')"
      ]
    },
    {
      "cell_type": "markdown",
      "id": "d92a894a-857d-43bb-a888-a6d65ef3a03a",
      "metadata": {
        "id": "d92a894a-857d-43bb-a888-a6d65ef3a03a"
      },
      "source": [
        "# Match outcome by home and away teams"
      ]
    },
    {
      "cell_type": "code",
      "execution_count": null,
      "id": "f0c545b9-a157-49b6-a646-dbab08660e5b",
      "metadata": {
        "id": "f0c545b9-a157-49b6-a646-dbab08660e5b"
      },
      "outputs": [],
      "source": [
        "# Creating a function get_labels() which takes in a match as argument and returns if the Home Team has more goals or the Away Team had more goals.\n",
        "# If both teams scored equally, it returns 'DRAW'\n",
        "def get_labels(matches):\n",
        "    if matches['Home Team Goals'] > matches['Away Team Goals']:\n",
        "        return 'Home Team Win'\n",
        "    if matches['Home Team Goals'] < matches['Away Team Goals']:\n",
        "        return 'Away Team Win'\n",
        "    return 'DRAW'"
      ]
    },
    {
      "cell_type": "code",
      "execution_count": null,
      "id": "9239122e-505d-40a9-ad88-6f9f1305bea5",
      "metadata": {
        "id": "9239122e-505d-40a9-ad88-6f9f1305bea5"
      },
      "outputs": [],
      "source": [
        "# Creating a new column 'outcome' in matches dataframe and performing the get_labels() function\n",
        "l = matches.apply(lambda x: get_labels(x), axis=1)"
      ]
    },
    {
      "cell_type": "code",
      "execution_count": null,
      "id": "f268dd72-8f01-4ca0-99e2-1850f9dcc296",
      "metadata": {
        "id": "f268dd72-8f01-4ca0-99e2-1850f9dcc296"
      },
      "outputs": [],
      "source": [
        "# Matches dataframe after executing get_label() function\n",
        "matches.head()"
      ]
    },
    {
      "cell_type": "code",
      "execution_count": null,
      "id": "6ecbbe4f-b633-46a0-b3f8-b3a83960d817",
      "metadata": {
        "id": "6ecbbe4f-b633-46a0-b3f8-b3a83960d817"
      },
      "outputs": [],
      "source": [
        "# Counting the total result of matchs played\n",
        "match_outcomes = matches['outcome'].value_counts()\n",
        "match_outcomes"
      ]
    },
    {
      "cell_type": "code",
      "execution_count": null,
      "id": "6a09a2b6-a99b-4c84-9956-1b92e61113f5",
      "metadata": {
        "id": "6a09a2b6-a99b-4c84-9956-1b92e61113f5"
      },
      "outputs": [],
      "source": [
        "# Plotting graph on match_outcomes\n",
        "plt.figure(figsize = (6,6))\n",
        "\n",
        "match_outcomes.plot.pie(autopct = \"%1.0f%%\", colors = sns.color_palette('winter_r'), shadow = True)\n",
        "\n",
        "c = plt.Circle((0,0), 0.4, color =  'white')\n",
        "plt.gca().add_artist(c)\n",
        "plt.title('Match Outcomes by Home and Away Teams')\n",
        "plt.show()"
      ]
    },
    {
      "cell_type": "code",
      "execution_count": null,
      "id": "93bfdce9-a3db-4bdb-9dff-761356ddca6b",
      "metadata": {
        "id": "93bfdce9-a3db-4bdb-9dff-761356ddca6b"
      },
      "outputs": [],
      "source": []
    }
  ],
  "metadata": {
    "kernelspec": {
      "display_name": "Python 3 (ipykernel)",
      "language": "python",
      "name": "python3"
    },
    "language_info": {
      "codemirror_mode": {
        "name": "ipython",
        "version": 3
      },
      "file_extension": ".py",
      "mimetype": "text/x-python",
      "name": "python",
      "nbconvert_exporter": "python",
      "pygments_lexer": "ipython3",
      "version": "3.10.3"
    },
    "colab": {
      "provenance": [],
      "collapsed_sections": [
        "466daf86-b9cd-44e8-98bd-5e1c80c476d5",
        "f669a3c4-a34b-4d8f-89a0-b8b3f0e3e55d"
      ]
    }
  },
  "nbformat": 4,
  "nbformat_minor": 5
}